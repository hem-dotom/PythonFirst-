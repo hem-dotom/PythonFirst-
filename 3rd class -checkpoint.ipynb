{
 "cells": [
  {
   "cell_type": "code",
   "execution_count": 6,
   "id": "a7de265e",
   "metadata": {},
   "outputs": [
    {
     "name": "stdout",
     "output_type": "stream",
     "text": [
      "enter marks of maths : 70\n",
      "enter marks of sciencs : 70\n",
      "enter marks of social :  70\n",
      "enter marks of english : 70\n",
      "enter marks of history : 70\n",
      "Student got B grade \n"
     ]
    }
   ],
   "source": [
    "a=int(input(\"Enter marks of Maths : \" ))\n",
    "b=int(input(\"Enter marks of Sciencs : \"))\n",
    "c=int(input(\"Enter marks of Social :  \"))\n",
    "d=int(input(\"Enter marks of English : \"))\n",
    "e=int(input(\"Enter marks of History : \"))\n",
    "\n",
    "f=((a+b+c+d+e)/500)*100\n",
    "\n",
    "if f==80 or f>80 :\n",
    "    print(\"Student got A grade \")\n",
    "elif f==65 or f<80 :\n",
    "    print(\"Student got B grade \")\n",
    "elif f==45 or f<65 :\n",
    "    print(\"student got C garde \")\n",
    "elif f==35 or f<35  :\n",
    "    print(\"Student got D grade \")\n",
    "else:\n",
    "    print(\"student got failed\")\n",
    "    "
   ]
  },
  {
   "cell_type": "code",
   "execution_count": null,
   "id": "05420b69",
   "metadata": {},
   "outputs": [],
   "source": []
  }
 ],
 "metadata": {
  "kernelspec": {
   "display_name": "Python 3",
   "language": "python",
   "name": "python3"
  },
  "language_info": {
   "codemirror_mode": {
    "name": "ipython",
    "version": 3
   },
   "file_extension": ".py",
   "mimetype": "text/x-python",
   "name": "python",
   "nbconvert_exporter": "python",
   "pygments_lexer": "ipython3",
   "version": "3.8.8"
  }
 },
 "nbformat": 4,
 "nbformat_minor": 5
}
